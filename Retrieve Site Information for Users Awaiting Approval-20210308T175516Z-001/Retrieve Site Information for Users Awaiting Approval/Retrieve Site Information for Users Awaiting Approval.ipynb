{
 "cells": [
  {
   "cell_type": "code",
   "execution_count": null,
   "metadata": {},
   "outputs": [],
   "source": [
    "import os\n",
    "import time\n",
    "import keyring\n",
    "import openpyxl\n",
    "from openpyxl import load_workbook\n",
    "import pandas as pd\n",
    "import csv\n",
    "\n",
    "from selenium import webdriver\n",
    "from selenium.webdriver.chrome.options import Options\n",
    "from selenium.webdriver.support.ui import Select\n",
    "from selenium.webdriver.common.by import By\n",
    "from selenium.common.exceptions import (\n",
    "    NoSuchElementException,\n",
    "    ElementNotVisibleException,\n",
    ")\n",
    "import chromedriver_binary\n",
    "from webdriver_manager.chrome import ChromeDriverManager"
   ]
  },
  {
   "cell_type": "markdown",
   "metadata": {},
   "source": [
    "## Required Libraries\n",
    "#### os (Installed with python)\n",
    "#### time (Installed with python)\n",
    "#### keyring (conda install -c anaconda keyring)\n",
    "#### openpyxl (conda install -c anaconda openpyxl)\n",
    "#### pandas (conda install pandas)\n",
    "#### selenium (conda install -c anaconda selenium)\n",
    "#### chromedriver_binary (conda install -c conda-forge python-chromedriver-binary=87)\n",
    "   ###### NOTE: Replace \"=87\" with whatever version of Chrome you have running. Don't include numbers after first decimal.\n",
    "#### webdriver_manager (pip install webdriver_manager)"
   ]
  },
  {
   "cell_type": "markdown",
   "metadata": {},
   "source": [
    "# Get Site Information for Users Awaiting Approval"
   ]
  },
  {
   "cell_type": "code",
   "execution_count": 1,
   "metadata": {},
   "outputs": [
    {
     "ename": "SyntaxError",
     "evalue": "invalid syntax (<ipython-input-1-abc952d4f462>, line 79)",
     "output_type": "error",
     "traceback": [
      "\u001b[1;36m  File \u001b[1;32m\"<ipython-input-1-abc952d4f462>\"\u001b[1;36m, line \u001b[1;32m79\u001b[0m\n\u001b[1;33m    print(i\",       \", \"No Users\")\u001b[0m\n\u001b[1;37m           ^\u001b[0m\n\u001b[1;31mSyntaxError\u001b[0m\u001b[1;31m:\u001b[0m invalid syntax\n"
     ]
    }
   ],
   "source": [
    "# function to take care of downloading file\n",
    "def enable_download_headless(browser, download_dir):\n",
    "    browser.command_executor._commands[\"send_command\"] = (\n",
    "        \"POST\",\n",
    "        \"/session/$sessionId/chromium/send_command\",\n",
    "    )\n",
    "    params = {\n",
    "        \"cmd\": \"Page.setDownloadBehavior\",\n",
    "        \"params\": {\"behavior\": \"allow\", \"downloadPath\": download_dir, },\n",
    "\n",
    "    }\n",
    "    browser.execute(\"send_command\", params)\n",
    "\n",
    "\n",
    "# instantiate a chrome options object so you can set the size and headless preference\n",
    "# some of these chrome options might be uncessary but I just used a boilerplate\n",
    "# change the <path_to_download_default_directory> to whatever your default download folder is located\n",
    "chrome_options = Options()\n",
    "chrome_options.add_argument(\"--headless\")\n",
    "chrome_options.add_argument(\"--window-size=1920x1080\")\n",
    "chrome_options.add_argument(\"--disable-notifications\")\n",
    "chrome_options.add_argument(\"--no-sandbox\")\n",
    "chrome_options.add_argument(\"--verbose\")\n",
    "chrome_options.add_experimental_option(\n",
    "    \"prefs\",\n",
    "    {\n",
    "        \"download.default_directory\": \"<path_to_download_default_directory>\",\n",
    "        \"download.prompt_for_download\": False,\n",
    "        \"download.directory_upgrade\": True,\n",
    "        \"safebrowsing_for_trusted_sources_enabled\": False,\n",
    "        \"safebrowsing.enabled\": False,\n",
    "    },\n",
    ")\n",
    "chrome_options.add_argument(\"--disable-gpu\")\n",
    "chrome_options.add_argument(\"--disable-software-rasterizer\")\n",
    "\n",
    "# initialize driver object and change the <path_to_chrome_driver> depending on your directory where your chromedriver should be\n",
    "driver = webdriver.Chrome()\n",
    "\n",
    "# Portal Page\n",
    "driver.get(\"https://www.dcphrapps.dphe.state.co.us/Account/Login\")\n",
    "\n",
    "###################################################################\n",
    "# Insert Your Log In Credentials\n",
    "###################################################################\n",
    "#Log in\n",
    "username = driver.find_element_by_name(\"Email\")\n",
    "username.clear()\n",
    "username.send_keys(\"USERNAME/EMAIL\")\n",
    "\n",
    "password = driver.find_element_by_name(\"Password\")\n",
    "password.clear()\n",
    "password.send_keys(\"YOUR PASSWORD\")\n",
    "##################################################################\n",
    "\n",
    "driver.find_element_by_css_selector('[value=\"Log in\"]').click()\n",
    "time.sleep(1)\n",
    "\n",
    "# Click “Portal”\n",
    "driver.find_element_by_id(\"DashButton\").click()\n",
    "\n",
    "# Make window full screen\n",
    "driver.maximize_window()\n",
    "time.sleep(3)\n",
    "\n",
    "# Select \"Show All\"\n",
    "show_all = Select(driver.find_element_by_name(\"ActiveUserList_length\"))\n",
    "show_all.select_by_visible_text(\"25\")\n",
    "time.sleep(3)\n",
    "\n",
    "\n",
    "driver.find_element_by_xpath('/html/body/div/div/div/div/div/main/div/div[2]/div[1]/div/div[2]/div[1]/div/div[2]/div/div/div[2]/div/table/tbody/tr[1]/td[1]/div/a[1]/span').click()\n",
    "\n",
    "# Get users registered for each site\n",
    "items = range(1,25)\n",
    "for i in items:\n",
    "    try:\n",
    "        time.sleep(2)\n",
    "        #driver.execute_script(\"window.scrollTo(0, window.scrollY + 600)\")\n",
    "        time.sleep(2)\n",
    "        FName = driver.find_element_by_xpath('//*[@id=\"FirstName\"]')\n",
    "        LName = driver.find_element_by_xpath('//*[@id=\"LastName\"]')\n",
    "        email = driver.find_element_by_xpath('//*[@id=\"UserName\"]')\n",
    "        Site = driver.find_element_by_xpath('/html/body/div[2]/div/div[2]/div/form[2]/div/div[2]/div[5]/ul/li[1]/div/div[3]/ul/li/div[2]/div/div[2]/ul/li/span')\n",
    "        print(FName.get_attribute(\"value\"),\",\",LName.get_attribute(\"value\"),\",\",email.get_attribute(\"value\"),\",\",Site.text)\n",
    "        driver.find_element_by_xpath('/html/body/div[2]/div/div[1]/div/div/div/ul/li/a').click()\n",
    "        time.sleep(3)\n",
    "        show_all = Select(driver.find_element_by_name(\"ActiveUserList_length\"))\n",
    "        show_all.select_by_visible_text(\"25\")\n",
    "        time.sleep(2)\n",
    "        driver.find_element_by_xpath('/html/body/div/div/div/div/div/main/div/div[2]/div[1]/div/div[2]/div[1]/div/div[2]/div/div/div[2]/div/table/tbody/tr[%d]/td[1]/div/a[1]/span' % i).click()\n",
    "        continue\n",
    "    except (ElementNotVisibleException, NoSuchElementException):\n",
    "        time.sleep(2)\n",
    "        #driver.execute_script(\"window.scrollTo(0, window.scrollY + 600)\")\n",
    "        time.sleep(2)\n",
    "        FName = driver.find_element_by_xpath('//*[@id=\"FirstName\"]')\n",
    "        LName = driver.find_element_by_xpath('//*[@id=\"LastName\"]')\n",
    "        email = driver.find_element_by_xpath('//*[@id=\"UserName\"]')\n",
    "        print(FName.get_attribute(\"value\"),\",\",LName.get_attribute(\"value\"),\",\",email.get_attribute(\"value\"),\",\", \"No Site Info\")\n",
    "        driver.find_element_by_xpath('/html/body/div[2]/div/div[1]/div/div/div/ul/li/a').click()\n",
    "        time.sleep(3)\n",
    "        show_all = Select(driver.find_element_by_name(\"ActiveUserList_length\"))\n",
    "        show_all.select_by_visible_text(\"25\")\n",
    "        time.sleep(2)\n",
    "        driver.find_element_by_xpath('/html/body/div/div/div/div/div/main/div/div[2]/div[1]/div/div[2]/div[1]/div/div[2]/div/div/div[2]/div/table/tbody/tr[%d]/td[1]/div/a[1]/span' % i).click()\n",
    "        pass"
   ]
  }
 ],
 "metadata": {
  "hide_input": false,
  "kernelspec": {
   "display_name": "Scrapy",
   "language": "python",
   "name": "scrapy"
  },
  "language_info": {
   "codemirror_mode": {
    "name": "ipython",
    "version": 3
   },
   "file_extension": ".py",
   "mimetype": "text/x-python",
   "name": "python",
   "nbconvert_exporter": "python",
   "pygments_lexer": "ipython3",
   "version": "3.8.5"
  },
  "toc": {
   "base_numbering": 1,
   "nav_menu": {},
   "number_sections": true,
   "sideBar": true,
   "skip_h1_title": false,
   "title_cell": "Table of Contents",
   "title_sidebar": "Contents",
   "toc_cell": false,
   "toc_position": {},
   "toc_section_display": true,
   "toc_window_display": false
  },
  "varInspector": {
   "cols": {
    "lenName": 16,
    "lenType": 16,
    "lenVar": 40
   },
   "kernels_config": {
    "python": {
     "delete_cmd_postfix": "",
     "delete_cmd_prefix": "del ",
     "library": "var_list.py",
     "varRefreshCmd": "print(var_dic_list())"
    },
    "r": {
     "delete_cmd_postfix": ") ",
     "delete_cmd_prefix": "rm(",
     "library": "var_list.r",
     "varRefreshCmd": "cat(var_dic_list()) "
    }
   },
   "types_to_exclude": [
    "module",
    "function",
    "builtin_function_or_method",
    "instance",
    "_Feature"
   ],
   "window_display": false
  }
 },
 "nbformat": 4,
 "nbformat_minor": 4
}
